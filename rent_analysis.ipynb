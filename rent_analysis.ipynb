{
 "cells": [
  {
   "cell_type": "markdown",
   "id": "a02c171d-d397-4b40-86bf-519d7a68f922",
   "metadata": {},
   "source": [
    "# Rent Analysis"
   ]
  },
  {
   "cell_type": "markdown",
   "id": "123a0232-8ba8-4b23-8ff1-79591e250133",
   "metadata": {},
   "source": [
    "## Data Origin:\n",
    "Scrapped the data from Craiglist to analyze the rent trends on Vancouver."
   ]
  },
  {
   "cell_type": "markdown",
   "id": "30c18c14-9e23-4af6-ab87-36d08fbb8f47",
   "metadata": {},
   "source": [
    "## Data Cleaning"
   ]
  },
  {
   "cell_type": "code",
   "execution_count": 2,
   "id": "1ed1960b-6988-4892-a6d8-05a0ae7859a3",
   "metadata": {},
   "outputs": [],
   "source": [
    "import numpy as np\n",
    "import pandas as pd\n",
    "import re\n",
    "import seaborn as sns\n",
    "import matplotlib.pyplot as plt\n",
    "from sklearn.preprocessing import LabelEncoder\n",
    "from sklearn.preprocessing import StandardScaler\n",
    "from sklearn.model_selection import train_test_split\n",
    "from sklearn.ensemble import RandomForestRegressor\n",
    "from sklearn.linear_model import LinearRegression\n",
    "from sklearn.metrics import mean_squared_error, r2_score"
   ]
  },
  {
   "cell_type": "code",
   "execution_count": 3,
   "id": "03518dfe-d25a-446e-ad59-de5670aa96cc",
   "metadata": {},
   "outputs": [
    {
     "data": {
      "text/html": [
       "<div>\n",
       "<style scoped>\n",
       "    .dataframe tbody tr th:only-of-type {\n",
       "        vertical-align: middle;\n",
       "    }\n",
       "\n",
       "    .dataframe tbody tr th {\n",
       "        vertical-align: top;\n",
       "    }\n",
       "\n",
       "    .dataframe thead th {\n",
       "        text-align: right;\n",
       "    }\n",
       "</style>\n",
       "<table border=\"1\" class=\"dataframe\">\n",
       "  <thead>\n",
       "    <tr style=\"text-align: right;\">\n",
       "      <th></th>\n",
       "      <th>Image</th>\n",
       "      <th>Title_URL</th>\n",
       "      <th>Label</th>\n",
       "      <th>meta</th>\n",
       "      <th>postbedrooms</th>\n",
       "      <th>postsqft</th>\n",
       "      <th>Price</th>\n",
       "    </tr>\n",
       "  </thead>\n",
       "  <tbody>\n",
       "    <tr>\n",
       "      <th>0</th>\n",
       "      <td>NaN</td>\n",
       "      <td>https://vancouver.craigslist.org/rds/apa/d/whi...</td>\n",
       "      <td>2B/1B, Secure Building, Situated in White Rock!</td>\n",
       "      <td>5 mins ago2br919ft21371 Blackwood Street, Whit...</td>\n",
       "      <td>2br</td>\n",
       "      <td>919ft2</td>\n",
       "      <td>$2,695</td>\n",
       "    </tr>\n",
       "    <tr>\n",
       "      <th>1</th>\n",
       "      <td>https://images.craigslist.org/d/7821650965/00O...</td>\n",
       "      <td>https://vancouver.craigslist.org/van/apa/d/van...</td>\n",
       "      <td>1Bedroom available in Cozy Laneway house 2 bal...</td>\n",
       "      <td>7 mins ago1brVancouver</td>\n",
       "      <td>1br</td>\n",
       "      <td>NaN</td>\n",
       "      <td>$1,195</td>\n",
       "    </tr>\n",
       "    <tr>\n",
       "      <th>2</th>\n",
       "      <td>https://images.craigslist.org/d/7815177258/010...</td>\n",
       "      <td>https://vancouver.craigslist.org/rds/apa/d/por...</td>\n",
       "      <td>HOUSE RENT</td>\n",
       "      <td>9 mins ago4br1250ft2Port Coquitlam</td>\n",
       "      <td>4br</td>\n",
       "      <td>1250ft2</td>\n",
       "      <td>$3,600</td>\n",
       "    </tr>\n",
       "    <tr>\n",
       "      <th>3</th>\n",
       "      <td>https://images.craigslist.org/d/7815176765/00O...</td>\n",
       "      <td>https://vancouver.craigslist.org/pml/apa/d/por...</td>\n",
       "      <td>HOUSE RENT</td>\n",
       "      <td>9 mins ago3br1250ft2Port Coquitlam</td>\n",
       "      <td>3br</td>\n",
       "      <td>1250ft2</td>\n",
       "      <td>$3,600</td>\n",
       "    </tr>\n",
       "    <tr>\n",
       "      <th>4</th>\n",
       "      <td>https://images.craigslist.org/d/7815608705/010...</td>\n",
       "      <td>https://vancouver.craigslist.org/bnc/apa/d/por...</td>\n",
       "      <td>HOUSE RENT</td>\n",
       "      <td>9 mins ago3br1250ft2Port Coquitlam</td>\n",
       "      <td>3br</td>\n",
       "      <td>1250ft2</td>\n",
       "      <td>$3,600</td>\n",
       "    </tr>\n",
       "    <tr>\n",
       "      <th>...</th>\n",
       "      <td>...</td>\n",
       "      <td>...</td>\n",
       "      <td>...</td>\n",
       "      <td>...</td>\n",
       "      <td>...</td>\n",
       "      <td>...</td>\n",
       "      <td>...</td>\n",
       "    </tr>\n",
       "    <tr>\n",
       "      <th>6350</th>\n",
       "      <td>data:image/png;base64,iVBORw0KGgoAAAANSUhEUgAA...</td>\n",
       "      <td>https://vancouver.craigslist.org/van/apa/d/van...</td>\n",
       "      <td>Beautifully Renovated Upper Floor Suite - 3 Be...</td>\n",
       "      <td>1/253br1200ft2Vancouver</td>\n",
       "      <td>3br</td>\n",
       "      <td>1200ft2</td>\n",
       "      <td>$3,980</td>\n",
       "    </tr>\n",
       "    <tr>\n",
       "      <th>6351</th>\n",
       "      <td>data:image/png;base64,iVBORw0KGgoAAAANSUhEUgAA...</td>\n",
       "      <td>https://vancouver.craigslist.org/van/apa/d/van...</td>\n",
       "      <td>One bedroom apartment for rent</td>\n",
       "      <td>1/251br610ft2kitsilano</td>\n",
       "      <td>1br</td>\n",
       "      <td>610ft2</td>\n",
       "      <td>$2,250</td>\n",
       "    </tr>\n",
       "    <tr>\n",
       "      <th>6352</th>\n",
       "      <td>data:image/png;base64,iVBORw0KGgoAAAANSUhEUgAA...</td>\n",
       "      <td>https://vancouver.craigslist.org/van/apa/d/van...</td>\n",
       "      <td>Public Art Display by Khan Lee, 100% Smoke-Fre...</td>\n",
       "      <td>1/251br662ft2333 E 11th Ave, Vancouver, BC</td>\n",
       "      <td>1br</td>\n",
       "      <td>662ft2</td>\n",
       "      <td>$2,550</td>\n",
       "    </tr>\n",
       "    <tr>\n",
       "      <th>6353</th>\n",
       "      <td>data:image/png;base64,iVBORw0KGgoAAAANSUhEUgAA...</td>\n",
       "      <td>https://vancouver.craigslist.org/rds/apa/d/sur...</td>\n",
       "      <td>2 bed, 2 bath, short term, LOWEST rate!</td>\n",
       "      <td>1/252brSurrey</td>\n",
       "      <td>2br</td>\n",
       "      <td>NaN</td>\n",
       "      <td>$2,000</td>\n",
       "    </tr>\n",
       "    <tr>\n",
       "      <th>6354</th>\n",
       "      <td>https://images.craigslist.org/d/7815759455/00Y...</td>\n",
       "      <td>https://vancouver.craigslist.org/van/apa/d/van...</td>\n",
       "      <td>1 BED 1 BATH UNIT NEAR MOUNT PLEASANT !</td>\n",
       "      <td>1/251br539ft2Vancouver</td>\n",
       "      <td>1br</td>\n",
       "      <td>539ft2</td>\n",
       "      <td>$2,350</td>\n",
       "    </tr>\n",
       "  </tbody>\n",
       "</table>\n",
       "<p>6355 rows × 7 columns</p>\n",
       "</div>"
      ],
      "text/plain": [
       "                                                  Image  \\\n",
       "0                                                   NaN   \n",
       "1     https://images.craigslist.org/d/7821650965/00O...   \n",
       "2     https://images.craigslist.org/d/7815177258/010...   \n",
       "3     https://images.craigslist.org/d/7815176765/00O...   \n",
       "4     https://images.craigslist.org/d/7815608705/010...   \n",
       "...                                                 ...   \n",
       "6350  data:image/png;base64,iVBORw0KGgoAAAANSUhEUgAA...   \n",
       "6351  data:image/png;base64,iVBORw0KGgoAAAANSUhEUgAA...   \n",
       "6352  data:image/png;base64,iVBORw0KGgoAAAANSUhEUgAA...   \n",
       "6353  data:image/png;base64,iVBORw0KGgoAAAANSUhEUgAA...   \n",
       "6354  https://images.craigslist.org/d/7815759455/00Y...   \n",
       "\n",
       "                                              Title_URL  \\\n",
       "0     https://vancouver.craigslist.org/rds/apa/d/whi...   \n",
       "1     https://vancouver.craigslist.org/van/apa/d/van...   \n",
       "2     https://vancouver.craigslist.org/rds/apa/d/por...   \n",
       "3     https://vancouver.craigslist.org/pml/apa/d/por...   \n",
       "4     https://vancouver.craigslist.org/bnc/apa/d/por...   \n",
       "...                                                 ...   \n",
       "6350  https://vancouver.craigslist.org/van/apa/d/van...   \n",
       "6351  https://vancouver.craigslist.org/van/apa/d/van...   \n",
       "6352  https://vancouver.craigslist.org/van/apa/d/van...   \n",
       "6353  https://vancouver.craigslist.org/rds/apa/d/sur...   \n",
       "6354  https://vancouver.craigslist.org/van/apa/d/van...   \n",
       "\n",
       "                                                  Label  \\\n",
       "0       2B/1B, Secure Building, Situated in White Rock!   \n",
       "1     1Bedroom available in Cozy Laneway house 2 bal...   \n",
       "2                                            HOUSE RENT   \n",
       "3                                            HOUSE RENT   \n",
       "4                                            HOUSE RENT   \n",
       "...                                                 ...   \n",
       "6350  Beautifully Renovated Upper Floor Suite - 3 Be...   \n",
       "6351                     One bedroom apartment for rent   \n",
       "6352  Public Art Display by Khan Lee, 100% Smoke-Fre...   \n",
       "6353            2 bed, 2 bath, short term, LOWEST rate!   \n",
       "6354            1 BED 1 BATH UNIT NEAR MOUNT PLEASANT !   \n",
       "\n",
       "                                                   meta postbedrooms postsqft  \\\n",
       "0     5 mins ago2br919ft21371 Blackwood Street, Whit...          2br   919ft2   \n",
       "1                                7 mins ago1brVancouver          1br      NaN   \n",
       "2                    9 mins ago4br1250ft2Port Coquitlam          4br  1250ft2   \n",
       "3                    9 mins ago3br1250ft2Port Coquitlam          3br  1250ft2   \n",
       "4                    9 mins ago3br1250ft2Port Coquitlam          3br  1250ft2   \n",
       "...                                                 ...          ...      ...   \n",
       "6350                            1/253br1200ft2Vancouver          3br  1200ft2   \n",
       "6351                             1/251br610ft2kitsilano          1br   610ft2   \n",
       "6352         1/251br662ft2333 E 11th Ave, Vancouver, BC          1br   662ft2   \n",
       "6353                                      1/252brSurrey          2br      NaN   \n",
       "6354                             1/251br539ft2Vancouver          1br   539ft2   \n",
       "\n",
       "       Price  \n",
       "0     $2,695  \n",
       "1     $1,195  \n",
       "2     $3,600  \n",
       "3     $3,600  \n",
       "4     $3,600  \n",
       "...      ...  \n",
       "6350  $3,980  \n",
       "6351  $2,250  \n",
       "6352  $2,550  \n",
       "6353  $2,000  \n",
       "6354  $2,350  \n",
       "\n",
       "[6355 rows x 7 columns]"
      ]
     },
     "execution_count": 3,
     "metadata": {},
     "output_type": "execute_result"
    }
   ],
   "source": [
    "# Read the csv file\n",
    "df = pd.read_csv('craiglist_scrapping.csv')\n",
    "# Check how's the data\n",
    "df.head(-5)"
   ]
  },
  {
   "cell_type": "markdown",
   "id": "194dd8f3-eb69-4f3f-9fba-826d16a3a4c9",
   "metadata": {},
   "source": [
    "### Observations\n",
    "- Images are irrelevant so it's better to erase the column.\n",
    "- Label column indicates the description. \n",
    "- Meta column has different avlues that need to be separated in the next order:\n",
    "-- Before the \"br\" word it indicates how many bedrooms the place has but as we have it in other column we're gonna drop it.\n",
    "-- After the \"br\" some houses have the \"ft2\" value and number that indicates the space. (Not all of them have this description)\n",
    "-- At the end you can see the name of the place where the house is."
   ]
  },
  {
   "cell_type": "code",
   "execution_count": 4,
   "id": "313435bb-1ddc-43fe-9db8-280a9d67492c",
   "metadata": {},
   "outputs": [
    {
     "data": {
      "text/plain": [
       "4080"
      ]
     },
     "execution_count": 4,
     "metadata": {},
     "output_type": "execute_result"
    }
   ],
   "source": [
    "# Find duplicated values\n",
    "df.duplicated().sum()"
   ]
  },
  {
   "cell_type": "code",
   "execution_count": 5,
   "id": "01abd981-4f6f-46fb-bf59-79cde1436af0",
   "metadata": {},
   "outputs": [],
   "source": [
    "# Remove the duplicated values\n",
    "df.drop_duplicates(inplace = True)"
   ]
  },
  {
   "cell_type": "code",
   "execution_count": 6,
   "id": "77c52a7d-26f8-4a8f-8b85-2345a9e7cab6",
   "metadata": {},
   "outputs": [
    {
     "name": "stdout",
     "output_type": "stream",
     "text": [
      "                                                  Image  \\\n",
      "0                                                   NaN   \n",
      "1     https://images.craigslist.org/d/7821650965/00O...   \n",
      "2     https://images.craigslist.org/d/7815177258/010...   \n",
      "3     https://images.craigslist.org/d/7815176765/00O...   \n",
      "4     https://images.craigslist.org/d/7815608705/010...   \n",
      "...                                                 ...   \n",
      "6350  data:image/png;base64,iVBORw0KGgoAAAANSUhEUgAA...   \n",
      "6351  data:image/png;base64,iVBORw0KGgoAAAANSUhEUgAA...   \n",
      "6352  data:image/png;base64,iVBORw0KGgoAAAANSUhEUgAA...   \n",
      "6353  data:image/png;base64,iVBORw0KGgoAAAANSUhEUgAA...   \n",
      "6354  https://images.craigslist.org/d/7815759455/00Y...   \n",
      "\n",
      "                                              Title_URL  \\\n",
      "0     https://vancouver.craigslist.org/rds/apa/d/whi...   \n",
      "1     https://vancouver.craigslist.org/van/apa/d/van...   \n",
      "2     https://vancouver.craigslist.org/rds/apa/d/por...   \n",
      "3     https://vancouver.craigslist.org/pml/apa/d/por...   \n",
      "4     https://vancouver.craigslist.org/bnc/apa/d/por...   \n",
      "...                                                 ...   \n",
      "6350  https://vancouver.craigslist.org/van/apa/d/van...   \n",
      "6351  https://vancouver.craigslist.org/van/apa/d/van...   \n",
      "6352  https://vancouver.craigslist.org/van/apa/d/van...   \n",
      "6353  https://vancouver.craigslist.org/rds/apa/d/sur...   \n",
      "6354  https://vancouver.craigslist.org/van/apa/d/van...   \n",
      "\n",
      "                                                  Label  \\\n",
      "0       2B/1B, Secure Building, Situated in White Rock!   \n",
      "1     1Bedroom available in Cozy Laneway house 2 bal...   \n",
      "2                                            HOUSE RENT   \n",
      "3                                            HOUSE RENT   \n",
      "4                                            HOUSE RENT   \n",
      "...                                                 ...   \n",
      "6350  Beautifully Renovated Upper Floor Suite - 3 Be...   \n",
      "6351                     One bedroom apartment for rent   \n",
      "6352  Public Art Display by Khan Lee, 100% Smoke-Fre...   \n",
      "6353            2 bed, 2 bath, short term, LOWEST rate!   \n",
      "6354            1 BED 1 BATH UNIT NEAR MOUNT PLEASANT !   \n",
      "\n",
      "                                                   meta postbedrooms postsqft  \\\n",
      "0     5 mins ago2br919ft21371 Blackwood Street, Whit...          2br   919ft2   \n",
      "1                                7 mins ago1brVancouver          1br      NaN   \n",
      "2                    9 mins ago4br1250ft2Port Coquitlam          4br  1250ft2   \n",
      "3                    9 mins ago3br1250ft2Port Coquitlam          3br  1250ft2   \n",
      "4                    9 mins ago3br1250ft2Port Coquitlam          3br  1250ft2   \n",
      "...                                                 ...          ...      ...   \n",
      "6350                            1/253br1200ft2Vancouver          3br  1200ft2   \n",
      "6351                             1/251br610ft2kitsilano          1br   610ft2   \n",
      "6352         1/251br662ft2333 E 11th Ave, Vancouver, BC          1br   662ft2   \n",
      "6353                                      1/252brSurrey          2br      NaN   \n",
      "6354                             1/251br539ft2Vancouver          1br   539ft2   \n",
      "\n",
      "       Price                     zone_name  \n",
      "0     $2,695  Blackwood Street, White Rock  \n",
      "1     $1,195                   brVancouver  \n",
      "2     $3,600                Port Coquitlam  \n",
      "3     $3,600                Port Coquitlam  \n",
      "4     $3,600                Port Coquitlam  \n",
      "...      ...                           ...  \n",
      "6350  $3,980                     Vancouver  \n",
      "6351  $2,250                     kitsilano  \n",
      "6352  $2,550             th Ave, Vancouver  \n",
      "6353  $2,000                      brSurrey  \n",
      "6354  $2,350                     Vancouver  \n",
      "\n",
      "[2275 rows x 8 columns]\n"
     ]
    }
   ],
   "source": [
    "# Extact the location on the meta column\n",
    "def extract_location(meta):\n",
    "    # Check if the input is a valid string\n",
    "    if not isinstance(meta, str) or not meta.strip():\n",
    "        return \"\"\n",
    "    \n",
    "    # Remove ', BC' from the end if it exists\n",
    "    result = meta.replace(', BC', '')\n",
    "    \n",
    "    # Split the string wherever a digit (0–9) is found\n",
    "    parts = re.split(r'[0-9]', result)\n",
    "    \n",
    "    # Return the last non-empty part after the split\n",
    "    return parts[-1].strip() if parts else \"\"\n",
    "\n",
    "# Apply the function to the 'meta' column\n",
    "df['zone_name'] = df['meta'].apply(extract_location)\n",
    "\n",
    "# View the updated DataFrame\n",
    "print(df.head(-5))\n"
   ]
  },
  {
   "cell_type": "code",
   "execution_count": 7,
   "id": "dba176c6-ec97-4869-abfc-5a0c2cdabcee",
   "metadata": {},
   "outputs": [
    {
     "data": {
      "text/html": [
       "<div>\n",
       "<style scoped>\n",
       "    .dataframe tbody tr th:only-of-type {\n",
       "        vertical-align: middle;\n",
       "    }\n",
       "\n",
       "    .dataframe tbody tr th {\n",
       "        vertical-align: top;\n",
       "    }\n",
       "\n",
       "    .dataframe thead th {\n",
       "        text-align: right;\n",
       "    }\n",
       "</style>\n",
       "<table border=\"1\" class=\"dataframe\">\n",
       "  <thead>\n",
       "    <tr style=\"text-align: right;\">\n",
       "      <th></th>\n",
       "      <th>Image</th>\n",
       "      <th>Title_URL</th>\n",
       "      <th>Label</th>\n",
       "      <th>meta</th>\n",
       "      <th>postbedrooms</th>\n",
       "      <th>postsqft</th>\n",
       "      <th>Price</th>\n",
       "      <th>zone_name</th>\n",
       "    </tr>\n",
       "  </thead>\n",
       "  <tbody>\n",
       "    <tr>\n",
       "      <th>0</th>\n",
       "      <td>NaN</td>\n",
       "      <td>https://vancouver.craigslist.org/rds/apa/d/whi...</td>\n",
       "      <td>2B/1B, Secure Building, Situated in White Rock!</td>\n",
       "      <td>5 mins ago2br919ft21371 Blackwood Street, Whit...</td>\n",
       "      <td>2</td>\n",
       "      <td>919</td>\n",
       "      <td>2,695</td>\n",
       "      <td>Blackwood Street, White Rock</td>\n",
       "    </tr>\n",
       "    <tr>\n",
       "      <th>1</th>\n",
       "      <td>https://images.craigslist.org/d/7821650965/00O...</td>\n",
       "      <td>https://vancouver.craigslist.org/van/apa/d/van...</td>\n",
       "      <td>1Bedroom available in Cozy Laneway house 2 bal...</td>\n",
       "      <td>7 mins ago1brVancouver</td>\n",
       "      <td>1</td>\n",
       "      <td>NaN</td>\n",
       "      <td>1,195</td>\n",
       "      <td>brVancouver</td>\n",
       "    </tr>\n",
       "    <tr>\n",
       "      <th>2</th>\n",
       "      <td>https://images.craigslist.org/d/7815177258/010...</td>\n",
       "      <td>https://vancouver.craigslist.org/rds/apa/d/por...</td>\n",
       "      <td>HOUSE RENT</td>\n",
       "      <td>9 mins ago4br1250ft2Port Coquitlam</td>\n",
       "      <td>4</td>\n",
       "      <td>1250</td>\n",
       "      <td>3,600</td>\n",
       "      <td>Port Coquitlam</td>\n",
       "    </tr>\n",
       "    <tr>\n",
       "      <th>3</th>\n",
       "      <td>https://images.craigslist.org/d/7815176765/00O...</td>\n",
       "      <td>https://vancouver.craigslist.org/pml/apa/d/por...</td>\n",
       "      <td>HOUSE RENT</td>\n",
       "      <td>9 mins ago3br1250ft2Port Coquitlam</td>\n",
       "      <td>3</td>\n",
       "      <td>1250</td>\n",
       "      <td>3,600</td>\n",
       "      <td>Port Coquitlam</td>\n",
       "    </tr>\n",
       "    <tr>\n",
       "      <th>4</th>\n",
       "      <td>https://images.craigslist.org/d/7815608705/010...</td>\n",
       "      <td>https://vancouver.craigslist.org/bnc/apa/d/por...</td>\n",
       "      <td>HOUSE RENT</td>\n",
       "      <td>9 mins ago3br1250ft2Port Coquitlam</td>\n",
       "      <td>3</td>\n",
       "      <td>1250</td>\n",
       "      <td>3,600</td>\n",
       "      <td>Port Coquitlam</td>\n",
       "    </tr>\n",
       "    <tr>\n",
       "      <th>...</th>\n",
       "      <td>...</td>\n",
       "      <td>...</td>\n",
       "      <td>...</td>\n",
       "      <td>...</td>\n",
       "      <td>...</td>\n",
       "      <td>...</td>\n",
       "      <td>...</td>\n",
       "      <td>...</td>\n",
       "    </tr>\n",
       "    <tr>\n",
       "      <th>6350</th>\n",
       "      <td>data:image/png;base64,iVBORw0KGgoAAAANSUhEUgAA...</td>\n",
       "      <td>https://vancouver.craigslist.org/van/apa/d/van...</td>\n",
       "      <td>Beautifully Renovated Upper Floor Suite - 3 Be...</td>\n",
       "      <td>1/253br1200ft2Vancouver</td>\n",
       "      <td>3</td>\n",
       "      <td>1200</td>\n",
       "      <td>3,980</td>\n",
       "      <td>Vancouver</td>\n",
       "    </tr>\n",
       "    <tr>\n",
       "      <th>6351</th>\n",
       "      <td>data:image/png;base64,iVBORw0KGgoAAAANSUhEUgAA...</td>\n",
       "      <td>https://vancouver.craigslist.org/van/apa/d/van...</td>\n",
       "      <td>One bedroom apartment for rent</td>\n",
       "      <td>1/251br610ft2kitsilano</td>\n",
       "      <td>1</td>\n",
       "      <td>610</td>\n",
       "      <td>2,250</td>\n",
       "      <td>kitsilano</td>\n",
       "    </tr>\n",
       "    <tr>\n",
       "      <th>6352</th>\n",
       "      <td>data:image/png;base64,iVBORw0KGgoAAAANSUhEUgAA...</td>\n",
       "      <td>https://vancouver.craigslist.org/van/apa/d/van...</td>\n",
       "      <td>Public Art Display by Khan Lee, 100% Smoke-Fre...</td>\n",
       "      <td>1/251br662ft2333 E 11th Ave, Vancouver, BC</td>\n",
       "      <td>1</td>\n",
       "      <td>662</td>\n",
       "      <td>2,550</td>\n",
       "      <td>th Ave, Vancouver</td>\n",
       "    </tr>\n",
       "    <tr>\n",
       "      <th>6353</th>\n",
       "      <td>data:image/png;base64,iVBORw0KGgoAAAANSUhEUgAA...</td>\n",
       "      <td>https://vancouver.craigslist.org/rds/apa/d/sur...</td>\n",
       "      <td>2 bed, 2 bath, short term, LOWEST rate!</td>\n",
       "      <td>1/252brSurrey</td>\n",
       "      <td>2</td>\n",
       "      <td>NaN</td>\n",
       "      <td>2,000</td>\n",
       "      <td>brSurrey</td>\n",
       "    </tr>\n",
       "    <tr>\n",
       "      <th>6354</th>\n",
       "      <td>https://images.craigslist.org/d/7815759455/00Y...</td>\n",
       "      <td>https://vancouver.craigslist.org/van/apa/d/van...</td>\n",
       "      <td>1 BED 1 BATH UNIT NEAR MOUNT PLEASANT !</td>\n",
       "      <td>1/251br539ft2Vancouver</td>\n",
       "      <td>1</td>\n",
       "      <td>539</td>\n",
       "      <td>2,350</td>\n",
       "      <td>Vancouver</td>\n",
       "    </tr>\n",
       "  </tbody>\n",
       "</table>\n",
       "<p>2275 rows × 8 columns</p>\n",
       "</div>"
      ],
      "text/plain": [
       "                                                  Image  \\\n",
       "0                                                   NaN   \n",
       "1     https://images.craigslist.org/d/7821650965/00O...   \n",
       "2     https://images.craigslist.org/d/7815177258/010...   \n",
       "3     https://images.craigslist.org/d/7815176765/00O...   \n",
       "4     https://images.craigslist.org/d/7815608705/010...   \n",
       "...                                                 ...   \n",
       "6350  data:image/png;base64,iVBORw0KGgoAAAANSUhEUgAA...   \n",
       "6351  data:image/png;base64,iVBORw0KGgoAAAANSUhEUgAA...   \n",
       "6352  data:image/png;base64,iVBORw0KGgoAAAANSUhEUgAA...   \n",
       "6353  data:image/png;base64,iVBORw0KGgoAAAANSUhEUgAA...   \n",
       "6354  https://images.craigslist.org/d/7815759455/00Y...   \n",
       "\n",
       "                                              Title_URL  \\\n",
       "0     https://vancouver.craigslist.org/rds/apa/d/whi...   \n",
       "1     https://vancouver.craigslist.org/van/apa/d/van...   \n",
       "2     https://vancouver.craigslist.org/rds/apa/d/por...   \n",
       "3     https://vancouver.craigslist.org/pml/apa/d/por...   \n",
       "4     https://vancouver.craigslist.org/bnc/apa/d/por...   \n",
       "...                                                 ...   \n",
       "6350  https://vancouver.craigslist.org/van/apa/d/van...   \n",
       "6351  https://vancouver.craigslist.org/van/apa/d/van...   \n",
       "6352  https://vancouver.craigslist.org/van/apa/d/van...   \n",
       "6353  https://vancouver.craigslist.org/rds/apa/d/sur...   \n",
       "6354  https://vancouver.craigslist.org/van/apa/d/van...   \n",
       "\n",
       "                                                  Label  \\\n",
       "0       2B/1B, Secure Building, Situated in White Rock!   \n",
       "1     1Bedroom available in Cozy Laneway house 2 bal...   \n",
       "2                                            HOUSE RENT   \n",
       "3                                            HOUSE RENT   \n",
       "4                                            HOUSE RENT   \n",
       "...                                                 ...   \n",
       "6350  Beautifully Renovated Upper Floor Suite - 3 Be...   \n",
       "6351                     One bedroom apartment for rent   \n",
       "6352  Public Art Display by Khan Lee, 100% Smoke-Fre...   \n",
       "6353            2 bed, 2 bath, short term, LOWEST rate!   \n",
       "6354            1 BED 1 BATH UNIT NEAR MOUNT PLEASANT !   \n",
       "\n",
       "                                                   meta postbedrooms postsqft  \\\n",
       "0     5 mins ago2br919ft21371 Blackwood Street, Whit...            2      919   \n",
       "1                                7 mins ago1brVancouver            1      NaN   \n",
       "2                    9 mins ago4br1250ft2Port Coquitlam            4     1250   \n",
       "3                    9 mins ago3br1250ft2Port Coquitlam            3     1250   \n",
       "4                    9 mins ago3br1250ft2Port Coquitlam            3     1250   \n",
       "...                                                 ...          ...      ...   \n",
       "6350                            1/253br1200ft2Vancouver            3     1200   \n",
       "6351                             1/251br610ft2kitsilano            1      610   \n",
       "6352         1/251br662ft2333 E 11th Ave, Vancouver, BC            1      662   \n",
       "6353                                      1/252brSurrey            2      NaN   \n",
       "6354                             1/251br539ft2Vancouver            1      539   \n",
       "\n",
       "      Price                     zone_name  \n",
       "0     2,695  Blackwood Street, White Rock  \n",
       "1     1,195                   brVancouver  \n",
       "2     3,600                Port Coquitlam  \n",
       "3     3,600                Port Coquitlam  \n",
       "4     3,600                Port Coquitlam  \n",
       "...     ...                           ...  \n",
       "6350  3,980                     Vancouver  \n",
       "6351  2,250                     kitsilano  \n",
       "6352  2,550             th Ave, Vancouver  \n",
       "6353  2,000                      brSurrey  \n",
       "6354  2,350                     Vancouver  \n",
       "\n",
       "[2275 rows x 8 columns]"
      ]
     },
     "execution_count": 7,
     "metadata": {},
     "output_type": "execute_result"
    }
   ],
   "source": [
    "# Take off the \"br\" from the \"postbedrooms\" column and \"ft2\" from the \"postsqft\" column and $ on Price\n",
    "df['postbedrooms'] = df['postbedrooms'].str.replace(r'br','', regex=True)\n",
    "df['postsqft'] = df['postsqft'].str.replace(r'ft2','', regex=True)\n",
    "df['Price'] = df['Price'].str.replace(r'[\\$]','', regex=True)\n",
    "df.head(-5)"
   ]
  },
  {
   "cell_type": "code",
   "execution_count": 8,
   "id": "6c258ec2-508a-4956-b475-35a06cbd5b79",
   "metadata": {},
   "outputs": [
    {
     "data": {
      "text/plain": [
       "Image           object\n",
       "Title_URL       object\n",
       "Label           object\n",
       "meta            object\n",
       "postbedrooms    object\n",
       "postsqft        object\n",
       "Price           object\n",
       "zone_name       object\n",
       "dtype: object"
      ]
     },
     "execution_count": 8,
     "metadata": {},
     "output_type": "execute_result"
    }
   ],
   "source": [
    "# Datatypes\n",
    "df.dtypes"
   ]
  },
  {
   "cell_type": "code",
   "execution_count": 9,
   "id": "cc4f89d2-ffc0-47a1-9552-4f3bdac7bf68",
   "metadata": {},
   "outputs": [],
   "source": [
    "# Dropping columns that are not needed.\n",
    "df = df.drop('Image', axis=1)\n",
    "df = df.drop('meta', axis=1)\n",
    "df = df.drop(\"Title_URL\", axis = 1)"
   ]
  },
  {
   "cell_type": "code",
   "execution_count": 10,
   "id": "fde60773-fa73-4bac-bdd3-7c47bc253315",
   "metadata": {},
   "outputs": [
    {
     "data": {
      "text/plain": [
       "Label             0\n",
       "postbedrooms    119\n",
       "postsqft        359\n",
       "Price             1\n",
       "zone_name         0\n",
       "dtype: int64"
      ]
     },
     "execution_count": 10,
     "metadata": {},
     "output_type": "execute_result"
    }
   ],
   "source": [
    "# find empty values\n",
    "df.isnull().sum()"
   ]
  },
  {
   "cell_type": "code",
   "execution_count": 11,
   "id": "feb8184f-7ac6-4278-b7bf-f41942443308",
   "metadata": {},
   "outputs": [
    {
     "data": {
      "text/plain": [
       "0       2695.0\n",
       "1       1195.0\n",
       "2       3600.0\n",
       "3       3600.0\n",
       "4       3600.0\n",
       "         ...  \n",
       "6345    2725.0\n",
       "6346    2690.0\n",
       "6347    2015.0\n",
       "6348    2395.0\n",
       "6349    2355.0\n",
       "Name: Price, Length: 2270, dtype: float64"
      ]
     },
     "execution_count": 11,
     "metadata": {},
     "output_type": "execute_result"
    }
   ],
   "source": [
    "# Convert column to numeric (to handle strings) and replace NaN with 0\n",
    "df['postsqft'] = pd.to_numeric(df['postsqft'], errors='coerce').fillna(0).astype(int)\n",
    "df['postbedrooms'] = pd.to_numeric(df['postbedrooms'], errors='coerce').fillna(0).astype(int)\n",
    "# Step 1: Remove commas and directly convert to integers\n",
    "df['Price'] = df['Price'].replace({',': ''}, regex=True)  # Remove commas\n",
    "df['Price'] = pd.to_numeric(df['Price'], errors='coerce')  # Convert to numeric, invalid parsing becomes NaN\n",
    "\n",
    "df['Price'].head(-10)"
   ]
  },
  {
   "cell_type": "code",
   "execution_count": 12,
   "id": "333530a4-3d9b-464a-b919-5c2229130d46",
   "metadata": {},
   "outputs": [
    {
     "data": {
      "text/plain": [
       "Label           0\n",
       "postbedrooms    0\n",
       "postsqft        0\n",
       "Price           1\n",
       "zone_name       0\n",
       "dtype: int64"
      ]
     },
     "execution_count": 12,
     "metadata": {},
     "output_type": "execute_result"
    }
   ],
   "source": [
    "# let's see how many NaN values are in the data base\n",
    "df.isnull().sum()"
   ]
  },
  {
   "cell_type": "code",
   "execution_count": 13,
   "id": "fc0233cb-e84e-4ad3-a208-74f244ab9aba",
   "metadata": {},
   "outputs": [
    {
     "data": {
      "text/html": [
       "<div>\n",
       "<style scoped>\n",
       "    .dataframe tbody tr th:only-of-type {\n",
       "        vertical-align: middle;\n",
       "    }\n",
       "\n",
       "    .dataframe tbody tr th {\n",
       "        vertical-align: top;\n",
       "    }\n",
       "\n",
       "    .dataframe thead th {\n",
       "        text-align: right;\n",
       "    }\n",
       "</style>\n",
       "<table border=\"1\" class=\"dataframe\">\n",
       "  <thead>\n",
       "    <tr style=\"text-align: right;\">\n",
       "      <th></th>\n",
       "      <th>postbedrooms</th>\n",
       "      <th>postsqft</th>\n",
       "      <th>Price</th>\n",
       "    </tr>\n",
       "  </thead>\n",
       "  <tbody>\n",
       "    <tr>\n",
       "      <th>count</th>\n",
       "      <td>2280.000000</td>\n",
       "      <td>2280.000000</td>\n",
       "      <td>2279.000000</td>\n",
       "    </tr>\n",
       "    <tr>\n",
       "      <th>mean</th>\n",
       "      <td>1.823684</td>\n",
       "      <td>827.561404</td>\n",
       "      <td>2959.821852</td>\n",
       "    </tr>\n",
       "    <tr>\n",
       "      <th>std</th>\n",
       "      <td>1.094307</td>\n",
       "      <td>752.162605</td>\n",
       "      <td>1922.957261</td>\n",
       "    </tr>\n",
       "    <tr>\n",
       "      <th>min</th>\n",
       "      <td>0.000000</td>\n",
       "      <td>0.000000</td>\n",
       "      <td>1.000000</td>\n",
       "    </tr>\n",
       "    <tr>\n",
       "      <th>25%</th>\n",
       "      <td>1.000000</td>\n",
       "      <td>500.000000</td>\n",
       "      <td>2100.000000</td>\n",
       "    </tr>\n",
       "    <tr>\n",
       "      <th>50%</th>\n",
       "      <td>2.000000</td>\n",
       "      <td>700.000000</td>\n",
       "      <td>2595.000000</td>\n",
       "    </tr>\n",
       "    <tr>\n",
       "      <th>75%</th>\n",
       "      <td>2.000000</td>\n",
       "      <td>960.000000</td>\n",
       "      <td>3267.500000</td>\n",
       "    </tr>\n",
       "    <tr>\n",
       "      <th>max</th>\n",
       "      <td>8.000000</td>\n",
       "      <td>7457.000000</td>\n",
       "      <td>45000.000000</td>\n",
       "    </tr>\n",
       "  </tbody>\n",
       "</table>\n",
       "</div>"
      ],
      "text/plain": [
       "       postbedrooms     postsqft         Price\n",
       "count   2280.000000  2280.000000   2279.000000\n",
       "mean       1.823684   827.561404   2959.821852\n",
       "std        1.094307   752.162605   1922.957261\n",
       "min        0.000000     0.000000      1.000000\n",
       "25%        1.000000   500.000000   2100.000000\n",
       "50%        2.000000   700.000000   2595.000000\n",
       "75%        2.000000   960.000000   3267.500000\n",
       "max        8.000000  7457.000000  45000.000000"
      ]
     },
     "execution_count": 13,
     "metadata": {},
     "output_type": "execute_result"
    }
   ],
   "source": [
    "df.describe()"
   ]
  },
  {
   "cell_type": "code",
   "execution_count": 14,
   "id": "8375b7ab-d198-41ae-ae17-94e697182022",
   "metadata": {},
   "outputs": [],
   "source": [
    "# As it is just one we're going to replace it with the mean and turn into integer.\n",
    "df['Price'] = df['Price'].fillna(df['Price'].mean())\n",
    "df['Price'] = df['Price'].astype(int)"
   ]
  },
  {
   "cell_type": "code",
   "execution_count": 15,
   "id": "c59ecc29-223e-4ad7-ba2b-3038f04f28fd",
   "metadata": {},
   "outputs": [],
   "source": [
    "# Definig the type of each column\n",
    "df['postbedrooms'] = df['postbedrooms'].astype(\"int\")\n",
    "df['postsqft'] = df['postsqft'].astype(\"int\")\n",
    "df['Price'] = df['Price'].astype(\"int\")\n",
    "df['zone_name'] = df['zone_name'].astype(\"category\")"
   ]
  },
  {
   "cell_type": "code",
   "execution_count": 16,
   "id": "ee40f289-5bf4-4658-8786-584662e0aa44",
   "metadata": {},
   "outputs": [
    {
     "data": {
      "text/plain": [
       "Label             object\n",
       "postbedrooms       int32\n",
       "postsqft           int32\n",
       "Price              int32\n",
       "zone_name       category\n",
       "dtype: object"
      ]
     },
     "execution_count": 16,
     "metadata": {},
     "output_type": "execute_result"
    }
   ],
   "source": [
    "# Check null values\n",
    "df.dtypes"
   ]
  },
  {
   "cell_type": "code",
   "execution_count": 17,
   "id": "d87a047f-1783-4647-85ef-a1e9621848a0",
   "metadata": {},
   "outputs": [
    {
     "data": {
      "text/html": [
       "<div>\n",
       "<style scoped>\n",
       "    .dataframe tbody tr th:only-of-type {\n",
       "        vertical-align: middle;\n",
       "    }\n",
       "\n",
       "    .dataframe tbody tr th {\n",
       "        vertical-align: top;\n",
       "    }\n",
       "\n",
       "    .dataframe thead th {\n",
       "        text-align: right;\n",
       "    }\n",
       "</style>\n",
       "<table border=\"1\" class=\"dataframe\">\n",
       "  <thead>\n",
       "    <tr style=\"text-align: right;\">\n",
       "      <th></th>\n",
       "      <th>Label</th>\n",
       "      <th>postbedrooms</th>\n",
       "      <th>postsqft</th>\n",
       "      <th>Price</th>\n",
       "      <th>zone_name</th>\n",
       "    </tr>\n",
       "  </thead>\n",
       "  <tbody>\n",
       "    <tr>\n",
       "      <th>0</th>\n",
       "      <td>2B/1B, Secure Building, Situated in White Rock!</td>\n",
       "      <td>2</td>\n",
       "      <td>919</td>\n",
       "      <td>2695</td>\n",
       "      <td>Blackwood Street, White Rock</td>\n",
       "    </tr>\n",
       "    <tr>\n",
       "      <th>1</th>\n",
       "      <td>1Bedroom available in Cozy Laneway house 2 bal...</td>\n",
       "      <td>1</td>\n",
       "      <td>0</td>\n",
       "      <td>1195</td>\n",
       "      <td>brVancouver</td>\n",
       "    </tr>\n",
       "  </tbody>\n",
       "</table>\n",
       "</div>"
      ],
      "text/plain": [
       "                                               Label  postbedrooms  postsqft  \\\n",
       "0    2B/1B, Secure Building, Situated in White Rock!             2       919   \n",
       "1  1Bedroom available in Cozy Laneway house 2 bal...             1         0   \n",
       "\n",
       "   Price                     zone_name  \n",
       "0   2695  Blackwood Street, White Rock  \n",
       "1   1195                   brVancouver  "
      ]
     },
     "execution_count": 17,
     "metadata": {},
     "output_type": "execute_result"
    }
   ],
   "source": [
    "df.head(2)"
   ]
  },
  {
   "cell_type": "code",
   "execution_count": 18,
   "id": "d0b4c4be-4573-4b9d-9bda-132d889810cd",
   "metadata": {},
   "outputs": [
    {
     "data": {
      "text/plain": [
       "['Blackwood Street, White Rock', 'brVancouver', 'Port Coquitlam', 'Coquitlam', 'Lynn Valley', ..., 'Surrey (Tynehead Park)', 'Clayton Heights', 'Seafair, Richmond', 'kitsilano', 'E Pender St, Vancouver']\n",
       "Length: 726\n",
       "Categories (726, object): ['', '(False Creek', '(Killarney/Collingwood)', '(North Vancouver)', ..., 'xx MacDonald Street Vancouver', 'yaletown', 'yorkson / willoughby / Langley', '📌West Coquitlam']"
      ]
     },
     "execution_count": 18,
     "metadata": {},
     "output_type": "execute_result"
    }
   ],
   "source": [
    "df['zone_name'].unique()"
   ]
  },
  {
   "cell_type": "code",
   "execution_count": 19,
   "id": "e8df9e75-15f2-456e-8045-d8662a06ae9b",
   "metadata": {},
   "outputs": [],
   "source": [
    "# Lower case the \"zone_name\" column to clean it.\n",
    "df['zone_name'] = df['zone_name'].str.lower()"
   ]
  },
  {
   "cell_type": "code",
   "execution_count": 20,
   "id": "f0579767-8daa-473f-90c7-74f69b2d431b",
   "metadata": {},
   "outputs": [
    {
     "data": {
      "text/plain": [
       "array(['white rock', 'vancouver', 'coquitlam', 'burnaby', 'pitt meadows',\n",
       "       'port moody', 'richmond', 'surrey', 'tsawwassen', 'maple ridge',\n",
       "       'langley', 'delta'], dtype=object)"
      ]
     },
     "execution_count": 20,
     "metadata": {},
     "output_type": "execute_result"
    }
   ],
   "source": [
    "# Replace al strings that have a \"Vancouver\" with just \"Vancouver\"\n",
    "df['zone_name'] = df['zone_name'].str.replace(r'.*surrey.*', 'surrey', regex=True)\n",
    "df['zone_name'] = df['zone_name'].str.replace(r'.*\\b(burnaby|brentwood|metrotown)\\b.*', 'burnaby', regex=True)\n",
    "df['zone_name'] = df['zone_name'].str.replace(r'.*richmond.*', 'richmond', regex=True)\n",
    "df['zone_name'] = df['zone_name'].str.replace(r'.*delta.*', 'delta', regex=True)\n",
    "df['zone_name'] = df['zone_name'].str.replace(r'.*maple ridge.*', 'maple ridge', regex=True)\n",
    "df['zone_name'] = df['zone_name'].str.replace(r'.*pitt meadows.*', 'pitt meadows', regex=True)\n",
    "df['zone_name'] = df['zone_name'].str.replace(r'.*white rock.*', 'white rock', regex=True)\n",
    "df['zone_name'] = df['zone_name'].str.replace(r'.*langley.*', 'langley', regex=True)\n",
    "df['zone_name'] = df['zone_name'].str.replace(r'.*coquitlam.*', 'coquitlam', regex=True)\n",
    "df['zone_name'] = df['zone_name'].str.replace(r'.*tsawwassen.*', 'tsawwassen', regex=True)\n",
    "df['zone_name'] = df['zone_name'].str.replace(r'.*port moody.*', 'port moody', regex=True)\n",
    "df['zone_name'] = df['zone_name'].str.replace(r'.*new westminster.*', 'port moody', regex=True)\n",
    "df['zone_name'] = df['zone_name'].str.replace(\n",
    "    r'.*\\b(north|west) vancouver\\b.*', r'\\1 vancouver', regex=True  # Preserve special cases\n",
    ")\n",
    "\n",
    "# Replace remaining patterns containing \"Vancouver\" with \"Vancouver\"\n",
    "df['zone_name'] = df['zone_name'].str.replace(\n",
    "    r'.*vancouver.*', 'vancouver', regex=True)\n",
    "\n",
    "# If the value is not then turn into vancouver\n",
    "df['zone_name'] = df['zone_name'].apply(lambda x: x if x in [\n",
    "    'surrey', 'burnaby', 'richmond', 'delta', 'maple ridge', 'pitt meadows', 'white rock', 'langley', 'coquitlam'\n",
    "    , 'tsawwassen', 'port moody', 'vancouver'] else 'vancouver')\n",
    "\n",
    "df['zone_name'].unique()"
   ]
  },
  {
   "cell_type": "code",
   "execution_count": 21,
   "id": "6ace309e-824c-47fd-a2ad-b17b726c5b92",
   "metadata": {},
   "outputs": [
    {
     "data": {
      "text/plain": [
       "zone_name\n",
       "vancouver       1314\n",
       "surrey           328\n",
       "burnaby          246\n",
       "coquitlam        114\n",
       "port moody       102\n",
       "richmond          96\n",
       "white rock        23\n",
       "langley           23\n",
       "maple ridge       20\n",
       "delta              8\n",
       "tsawwassen         5\n",
       "pitt meadows       1\n",
       "Name: count, dtype: int64"
      ]
     },
     "execution_count": 21,
     "metadata": {},
     "output_type": "execute_result"
    }
   ],
   "source": [
    "df['zone_name'].value_counts()"
   ]
  },
  {
   "cell_type": "code",
   "execution_count": 22,
   "id": "50810141-4501-424c-a17f-140927631467",
   "metadata": {},
   "outputs": [
    {
     "data": {
      "text/html": [
       "<div>\n",
       "<style scoped>\n",
       "    .dataframe tbody tr th:only-of-type {\n",
       "        vertical-align: middle;\n",
       "    }\n",
       "\n",
       "    .dataframe tbody tr th {\n",
       "        vertical-align: top;\n",
       "    }\n",
       "\n",
       "    .dataframe thead th {\n",
       "        text-align: right;\n",
       "    }\n",
       "</style>\n",
       "<table border=\"1\" class=\"dataframe\">\n",
       "  <thead>\n",
       "    <tr style=\"text-align: right;\">\n",
       "      <th></th>\n",
       "      <th>Label</th>\n",
       "      <th>postbedrooms</th>\n",
       "      <th>postsqft</th>\n",
       "      <th>Price</th>\n",
       "      <th>zone_name</th>\n",
       "    </tr>\n",
       "  </thead>\n",
       "  <tbody>\n",
       "    <tr>\n",
       "      <th>0</th>\n",
       "      <td>2B/1B, Secure Building, Situated in White Rock!</td>\n",
       "      <td>2</td>\n",
       "      <td>919</td>\n",
       "      <td>2695</td>\n",
       "      <td>white rock</td>\n",
       "    </tr>\n",
       "    <tr>\n",
       "      <th>1</th>\n",
       "      <td>1Bedroom available in Cozy Laneway house 2 bal...</td>\n",
       "      <td>1</td>\n",
       "      <td>0</td>\n",
       "      <td>1195</td>\n",
       "      <td>vancouver</td>\n",
       "    </tr>\n",
       "    <tr>\n",
       "      <th>2</th>\n",
       "      <td>HOUSE RENT</td>\n",
       "      <td>4</td>\n",
       "      <td>1250</td>\n",
       "      <td>3600</td>\n",
       "      <td>coquitlam</td>\n",
       "    </tr>\n",
       "    <tr>\n",
       "      <th>3</th>\n",
       "      <td>HOUSE RENT</td>\n",
       "      <td>3</td>\n",
       "      <td>1250</td>\n",
       "      <td>3600</td>\n",
       "      <td>coquitlam</td>\n",
       "    </tr>\n",
       "    <tr>\n",
       "      <th>4</th>\n",
       "      <td>HOUSE RENT</td>\n",
       "      <td>3</td>\n",
       "      <td>1250</td>\n",
       "      <td>3600</td>\n",
       "      <td>coquitlam</td>\n",
       "    </tr>\n",
       "    <tr>\n",
       "      <th>5</th>\n",
       "      <td>Coquitlam Center Eagles Ridge Upper Floor 3 be...</td>\n",
       "      <td>3</td>\n",
       "      <td>1500</td>\n",
       "      <td>3100</td>\n",
       "      <td>coquitlam</td>\n",
       "    </tr>\n",
       "    <tr>\n",
       "      <th>6</th>\n",
       "      <td>Bright legal bachelor suite steps from shops, ...</td>\n",
       "      <td>0</td>\n",
       "      <td>470</td>\n",
       "      <td>1950</td>\n",
       "      <td>vancouver</td>\n",
       "    </tr>\n",
       "    <tr>\n",
       "      <th>7</th>\n",
       "      <td>Yaletown Skyline Spacious 2 Bed 2 Bath+Den 2 E...</td>\n",
       "      <td>2</td>\n",
       "      <td>1040</td>\n",
       "      <td>4300</td>\n",
       "      <td>vancouver</td>\n",
       "    </tr>\n",
       "    <tr>\n",
       "      <th>8</th>\n",
       "      <td>1 Bed, 1 Bath Basement with car parking</td>\n",
       "      <td>1</td>\n",
       "      <td>750</td>\n",
       "      <td>1600</td>\n",
       "      <td>coquitlam</td>\n",
       "    </tr>\n",
       "    <tr>\n",
       "      <th>9</th>\n",
       "      <td>UBC Students/Professionals Group/Family/Daycar...</td>\n",
       "      <td>6</td>\n",
       "      <td>3300</td>\n",
       "      <td>7000</td>\n",
       "      <td>vancouver</td>\n",
       "    </tr>\n",
       "  </tbody>\n",
       "</table>\n",
       "</div>"
      ],
      "text/plain": [
       "                                               Label  postbedrooms  postsqft  \\\n",
       "0    2B/1B, Secure Building, Situated in White Rock!             2       919   \n",
       "1  1Bedroom available in Cozy Laneway house 2 bal...             1         0   \n",
       "2                                         HOUSE RENT             4      1250   \n",
       "3                                         HOUSE RENT             3      1250   \n",
       "4                                         HOUSE RENT             3      1250   \n",
       "5  Coquitlam Center Eagles Ridge Upper Floor 3 be...             3      1500   \n",
       "6  Bright legal bachelor suite steps from shops, ...             0       470   \n",
       "7  Yaletown Skyline Spacious 2 Bed 2 Bath+Den 2 E...             2      1040   \n",
       "8            1 Bed, 1 Bath Basement with car parking             1       750   \n",
       "9  UBC Students/Professionals Group/Family/Daycar...             6      3300   \n",
       "\n",
       "   Price   zone_name  \n",
       "0   2695  white rock  \n",
       "1   1195   vancouver  \n",
       "2   3600   coquitlam  \n",
       "3   3600   coquitlam  \n",
       "4   3600   coquitlam  \n",
       "5   3100   coquitlam  \n",
       "6   1950   vancouver  \n",
       "7   4300   vancouver  \n",
       "8   1600   coquitlam  \n",
       "9   7000   vancouver  "
      ]
     },
     "execution_count": 22,
     "metadata": {},
     "output_type": "execute_result"
    }
   ],
   "source": [
    "df.head(10)"
   ]
  },
  {
   "cell_type": "code",
   "execution_count": 23,
   "id": "600352d0-ca8b-4790-a419-723fefc62d20",
   "metadata": {},
   "outputs": [],
   "source": [
    "# Data Set is cleaned!"
   ]
  },
  {
   "cell_type": "code",
   "execution_count": 24,
   "id": "95e71100-86a1-48c8-ba17-b59276c9d3e6",
   "metadata": {},
   "outputs": [
    {
     "data": {
      "text/html": [
       "<div>\n",
       "<style scoped>\n",
       "    .dataframe tbody tr th:only-of-type {\n",
       "        vertical-align: middle;\n",
       "    }\n",
       "\n",
       "    .dataframe tbody tr th {\n",
       "        vertical-align: top;\n",
       "    }\n",
       "\n",
       "    .dataframe thead th {\n",
       "        text-align: right;\n",
       "    }\n",
       "</style>\n",
       "<table border=\"1\" class=\"dataframe\">\n",
       "  <thead>\n",
       "    <tr style=\"text-align: right;\">\n",
       "      <th></th>\n",
       "      <th>postbedrooms</th>\n",
       "      <th>postsqft</th>\n",
       "      <th>Price</th>\n",
       "    </tr>\n",
       "  </thead>\n",
       "  <tbody>\n",
       "    <tr>\n",
       "      <th>count</th>\n",
       "      <td>2280.000000</td>\n",
       "      <td>2280.000000</td>\n",
       "      <td>2280.000000</td>\n",
       "    </tr>\n",
       "    <tr>\n",
       "      <th>mean</th>\n",
       "      <td>1.823684</td>\n",
       "      <td>827.561404</td>\n",
       "      <td>2959.821491</td>\n",
       "    </tr>\n",
       "    <tr>\n",
       "      <th>std</th>\n",
       "      <td>1.094307</td>\n",
       "      <td>752.162605</td>\n",
       "      <td>1922.535329</td>\n",
       "    </tr>\n",
       "    <tr>\n",
       "      <th>min</th>\n",
       "      <td>0.000000</td>\n",
       "      <td>0.000000</td>\n",
       "      <td>1.000000</td>\n",
       "    </tr>\n",
       "    <tr>\n",
       "      <th>25%</th>\n",
       "      <td>1.000000</td>\n",
       "      <td>500.000000</td>\n",
       "      <td>2100.000000</td>\n",
       "    </tr>\n",
       "    <tr>\n",
       "      <th>50%</th>\n",
       "      <td>2.000000</td>\n",
       "      <td>700.000000</td>\n",
       "      <td>2595.000000</td>\n",
       "    </tr>\n",
       "    <tr>\n",
       "      <th>75%</th>\n",
       "      <td>2.000000</td>\n",
       "      <td>960.000000</td>\n",
       "      <td>3266.250000</td>\n",
       "    </tr>\n",
       "    <tr>\n",
       "      <th>max</th>\n",
       "      <td>8.000000</td>\n",
       "      <td>7457.000000</td>\n",
       "      <td>45000.000000</td>\n",
       "    </tr>\n",
       "  </tbody>\n",
       "</table>\n",
       "</div>"
      ],
      "text/plain": [
       "       postbedrooms     postsqft         Price\n",
       "count   2280.000000  2280.000000   2280.000000\n",
       "mean       1.823684   827.561404   2959.821491\n",
       "std        1.094307   752.162605   1922.535329\n",
       "min        0.000000     0.000000      1.000000\n",
       "25%        1.000000   500.000000   2100.000000\n",
       "50%        2.000000   700.000000   2595.000000\n",
       "75%        2.000000   960.000000   3266.250000\n",
       "max        8.000000  7457.000000  45000.000000"
      ]
     },
     "execution_count": 24,
     "metadata": {},
     "output_type": "execute_result"
    }
   ],
   "source": [
    "df.describe()"
   ]
  },
  {
   "cell_type": "markdown",
   "id": "fdeacc8b-c6de-4ae3-b2de-eb2b1bf0d059",
   "metadata": {},
   "source": [
    "### Removing outliers"
   ]
  },
  {
   "cell_type": "code",
   "execution_count": 25,
   "id": "679c6582-bd44-4a35-9f83-9a3e153454de",
   "metadata": {},
   "outputs": [
    {
     "data": {
      "image/png": "[encoded data removed]",
      "text/plain": [
       "<Figure size 640x480 with 1 Axes>"
      ]
     },
     "metadata": {},
     "output_type": "display_data"
    },
    {
     "data": {
      "image/png": "[encoded data removed]",
      "text/plain": [
       "<Figure size 640x480 with 1 Axes>"
      ]
     },
     "metadata": {},
     "output_type": "display_data"
    }
   ],
   "source": [
    "# Removing outliers\n",
    "def removal_box_plot(df, column, threshold):\n",
    "    sns.boxplot(df[column])\n",
    "    plt.title(f'Original Box Plot of {column}')\n",
    "    plt.show()\n",
    "\n",
    "    removed_outliers = df[df[column] <= threshold]\n",
    "\n",
    "    sns.boxplot(removed_outliers[column])\n",
    "    plt.title(f'Box Plot without Outliers of {column}')\n",
    "    plt.show()\n",
    "    return removed_outliers\n",
    "\n",
    "threshold_value = 12500\n",
    "\n",
    "df = removal_box_plot(df, 'Price', threshold_value)"
   ]
  },
  {
   "cell_type": "markdown",
   "id": "a7260437-0d7b-477c-bafd-0d0e04df0305",
   "metadata": {},
   "source": [
    "# Final Observations EDA\n",
    "- Most of the values were duplicated as people tends to re-activate or re-publish the same add over and over.\n",
    "- Cleaning took a lot of time since there were many values to separate and to polish to get to a uniformed type of data for each column."
   ]
  },
  {
   "cell_type": "code",
   "execution_count": 26,
   "id": "7ee7fef7-8c49-4431-b08c-6fdc99facebe",
   "metadata": {},
   "outputs": [
    {
     "data": {
      "text/plain": [
       "Index(['Label', 'postbedrooms', 'postsqft', 'Price', 'zone_name'], dtype='object')"
      ]
     },
     "execution_count": 26,
     "metadata": {},
     "output_type": "execute_result"
    }
   ],
   "source": [
    "df.columns"
   ]
  },
  {
   "cell_type": "code",
   "execution_count": 27,
   "id": "337e8e49-1393-487f-8468-a1065918b53e",
   "metadata": {},
   "outputs": [
    {
     "data": {
      "image/png": "[encoded data removed]",
      "text/plain": [
       "<Figure size 1500x500 with 4 Axes>"
      ]
     },
     "metadata": {},
     "output_type": "display_data"
    }
   ],
   "source": [
    "columns = ['postbedrooms', 'postsqft', 'Price', 'zone_name']\n",
    "\n",
    "# plotting area\n",
    "plt.figure(figsize=(15, 5))\n",
    "\n",
    "# loop through the selected columns and creating a histogram\n",
    "for i, column in enumerate(columns, 1):\n",
    "    plt.subplot(1, len(columns), i)\n",
    "    counts, bins, patches = plt.hist(df[column].dropna(), bins=20, color='skyblue', edgecolor='black')\n",
    "    plt.title(f'Histogram of {column}')\n",
    "    plt.xlabel(column)\n",
    "    plt.ylabel('Frequency')\n",
    "    plt.xticks(rotation=50)\n",
    "plt.tight_layout()\n",
    "plt.show()"
   ]
  },
  {
   "cell_type": "code",
   "execution_count": 28,
   "id": "1c4f1203-887d-4cf5-989e-38f98361feb2",
   "metadata": {},
   "outputs": [
    {
     "data": {
      "text/html": [
       "<div>\n",
       "<style scoped>\n",
       "    .dataframe tbody tr th:only-of-type {\n",
       "        vertical-align: middle;\n",
       "    }\n",
       "\n",
       "    .dataframe tbody tr th {\n",
       "        vertical-align: top;\n",
       "    }\n",
       "\n",
       "    .dataframe thead th {\n",
       "        text-align: right;\n",
       "    }\n",
       "</style>\n",
       "<table border=\"1\" class=\"dataframe\">\n",
       "  <thead>\n",
       "    <tr style=\"text-align: right;\">\n",
       "      <th></th>\n",
       "      <th>postbedrooms</th>\n",
       "      <th>postsqft</th>\n",
       "      <th>Price</th>\n",
       "    </tr>\n",
       "  </thead>\n",
       "  <tbody>\n",
       "    <tr>\n",
       "      <th>postbedrooms</th>\n",
       "      <td>1.000000</td>\n",
       "      <td>0.683829</td>\n",
       "      <td>0.621380</td>\n",
       "    </tr>\n",
       "    <tr>\n",
       "      <th>postsqft</th>\n",
       "      <td>0.683829</td>\n",
       "      <td>1.000000</td>\n",
       "      <td>0.682502</td>\n",
       "    </tr>\n",
       "    <tr>\n",
       "      <th>Price</th>\n",
       "      <td>0.621380</td>\n",
       "      <td>0.682502</td>\n",
       "      <td>1.000000</td>\n",
       "    </tr>\n",
       "  </tbody>\n",
       "</table>\n",
       "</div>"
      ],
      "text/plain": [
       "              postbedrooms  postsqft     Price\n",
       "postbedrooms      1.000000  0.683829  0.621380\n",
       "postsqft          0.683829  1.000000  0.682502\n",
       "Price             0.621380  0.682502  1.000000"
      ]
     },
     "execution_count": 28,
     "metadata": {},
     "output_type": "execute_result"
    }
   ],
   "source": [
    "# Checking correlations\n",
    "# Filter columns that are numerical in the original df\n",
    "numerical_df = df.select_dtypes(include=[float, int])\n",
    "correlation_matrix = numerical_df.corr()\n",
    "correlation_matrix"
   ]
  },
  {
   "cell_type": "code",
   "execution_count": 29,
   "id": "e752d0d5-1b19-4633-b3d9-305eba670f75",
   "metadata": {},
   "outputs": [
    {
     "data": {
      "text/plain": [
       "Price           1.000000\n",
       "postsqft        0.682502\n",
       "postbedrooms    0.621380\n",
       "Name: Price, dtype: float64"
      ]
     },
     "execution_count": 29,
     "metadata": {},
     "output_type": "execute_result"
    }
   ],
   "source": [
    "# Sort in descending order\n",
    "rent_correlation = correlation_matrix['Price'].sort_values(ascending = False)\n",
    "rent_correlation"
   ]
  },
  {
   "cell_type": "markdown",
   "id": "d79725c2-2d98-439f-b51c-fef68d16e1d4",
   "metadata": {},
   "source": [
    "## Encoding Categorical feature."
   ]
  },
  {
   "cell_type": "code",
   "execution_count": 30,
   "id": "3ddb34a1-e96c-4aa8-a6cc-b80805686064",
   "metadata": {},
   "outputs": [
    {
     "data": {
      "text/html": [
       "<div>\n",
       "<style scoped>\n",
       "    .dataframe tbody tr th:only-of-type {\n",
       "        vertical-align: middle;\n",
       "    }\n",
       "\n",
       "    .dataframe tbody tr th {\n",
       "        vertical-align: top;\n",
       "    }\n",
       "\n",
       "    .dataframe thead th {\n",
       "        text-align: right;\n",
       "    }\n",
       "</style>\n",
       "<table border=\"1\" class=\"dataframe\">\n",
       "  <thead>\n",
       "    <tr style=\"text-align: right;\">\n",
       "      <th></th>\n",
       "      <th>postbedrooms</th>\n",
       "      <th>postsqft</th>\n",
       "      <th>Price</th>\n",
       "      <th>zone_name</th>\n",
       "    </tr>\n",
       "  </thead>\n",
       "  <tbody>\n",
       "    <tr>\n",
       "      <th>0</th>\n",
       "      <td>2</td>\n",
       "      <td>919</td>\n",
       "      <td>2695</td>\n",
       "      <td>white rock</td>\n",
       "    </tr>\n",
       "    <tr>\n",
       "      <th>1</th>\n",
       "      <td>1</td>\n",
       "      <td>0</td>\n",
       "      <td>1195</td>\n",
       "      <td>vancouver</td>\n",
       "    </tr>\n",
       "    <tr>\n",
       "      <th>2</th>\n",
       "      <td>4</td>\n",
       "      <td>1250</td>\n",
       "      <td>3600</td>\n",
       "      <td>coquitlam</td>\n",
       "    </tr>\n",
       "  </tbody>\n",
       "</table>\n",
       "</div>"
      ],
      "text/plain": [
       "   postbedrooms  postsqft  Price   zone_name\n",
       "0             2       919   2695  white rock\n",
       "1             1         0   1195   vancouver\n",
       "2             4      1250   3600   coquitlam"
      ]
     },
     "execution_count": 30,
     "metadata": {},
     "output_type": "execute_result"
    }
   ],
   "source": [
    "# Create a copy of df to keep the original intact\n",
    "df_final = df.copy()\n",
    "# Drop the \"Label\" column as it won't help in the ML model.\n",
    "df_final = df_final.drop(columns=['Label'])\n",
    "df_final.head(3)"
   ]
  },
  {
   "cell_type": "code",
   "execution_count": 31,
   "id": "b0086924-a08c-4fe8-a473-f4bb3086dc47",
   "metadata": {},
   "outputs": [
    {
     "data": {
      "text/html": [
       "<div>\n",
       "<style scoped>\n",
       "    .dataframe tbody tr th:only-of-type {\n",
       "        vertical-align: middle;\n",
       "    }\n",
       "\n",
       "    .dataframe tbody tr th {\n",
       "        vertical-align: top;\n",
       "    }\n",
       "\n",
       "    .dataframe thead th {\n",
       "        text-align: right;\n",
       "    }\n",
       "</style>\n",
       "<table border=\"1\" class=\"dataframe\">\n",
       "  <thead>\n",
       "    <tr style=\"text-align: right;\">\n",
       "      <th></th>\n",
       "      <th>postbedrooms</th>\n",
       "      <th>postsqft</th>\n",
       "      <th>Price</th>\n",
       "      <th>zone_name_encoded</th>\n",
       "    </tr>\n",
       "  </thead>\n",
       "  <tbody>\n",
       "    <tr>\n",
       "      <th>0</th>\n",
       "      <td>2</td>\n",
       "      <td>919</td>\n",
       "      <td>2695</td>\n",
       "      <td>11</td>\n",
       "    </tr>\n",
       "    <tr>\n",
       "      <th>1</th>\n",
       "      <td>1</td>\n",
       "      <td>0</td>\n",
       "      <td>1195</td>\n",
       "      <td>10</td>\n",
       "    </tr>\n",
       "  </tbody>\n",
       "</table>\n",
       "</div>"
      ],
      "text/plain": [
       "   postbedrooms  postsqft  Price  zone_name_encoded\n",
       "0             2       919   2695                 11\n",
       "1             1         0   1195                 10"
      ]
     },
     "execution_count": 31,
     "metadata": {},
     "output_type": "execute_result"
    }
   ],
   "source": [
    "# Initialize the label encoder\n",
    "label_encoder = LabelEncoder()\n",
    "\n",
    "# Apply label encoding to the 'zone_name' column\n",
    "df_final['zone_name_encoded'] = label_encoder.fit_transform(df_final['zone_name'])\n",
    "df_final = df_final.drop(columns=['zone_name'])\n",
    "df_final.head(2)"
   ]
  },
  {
   "cell_type": "markdown",
   "id": "c83b45a8-a705-45e4-b0bb-bd76634c507b",
   "metadata": {},
   "source": [
    "### Comments\n",
    "The application of Label Encoding is justified as there are values like Vancouver that because is the biggest city has more demand than other cities nearby such as Burnaby, Coquitlam and such."
   ]
  },
  {
   "cell_type": "markdown",
   "id": "8ec57dad-cabc-4ae9-ab09-aa1f63146382",
   "metadata": {},
   "source": [
    "### Feature Scaling"
   ]
  },
  {
   "cell_type": "code",
   "execution_count": 32,
   "id": "a0bf04fa-4868-47b1-929b-8d6dfa89def9",
   "metadata": {},
   "outputs": [],
   "source": [
    "# Separate features (X) and target (y) from df_final\n",
    "X = df_final.drop(columns=['Price'])  # Drop \"Price\" to use all other columns as features\n",
    "y = df_final['Price']  # target column to predict"
   ]
  },
  {
   "cell_type": "markdown",
   "id": "327cd78f-4b78-4d65-bc24-7e34a486402e",
   "metadata": {},
   "source": [
    "### Comments\n",
    "Since the data is not normally distributed then Standard Scaler is not a great option. There are not so many outliers so robust scaling is not appropiate. So MinMax is a great option since the prices can vary from range to range which is considerable for the model."
   ]
  },
  {
   "cell_type": "code",
   "execution_count": 33,
   "id": "b2c5c0d4-4347-497a-9b29-5d486ccad586",
   "metadata": {},
   "outputs": [
    {
     "data": {
      "text/html": [
       "<div>\n",
       "<style scoped>\n",
       "    .dataframe tbody tr th:only-of-type {\n",
       "        vertical-align: middle;\n",
       "    }\n",
       "\n",
       "    .dataframe tbody tr th {\n",
       "        vertical-align: top;\n",
       "    }\n",
       "\n",
       "    .dataframe thead th {\n",
       "        text-align: right;\n",
       "    }\n",
       "</style>\n",
       "<table border=\"1\" class=\"dataframe\">\n",
       "  <thead>\n",
       "    <tr style=\"text-align: right;\">\n",
       "      <th></th>\n",
       "      <th>postbedrooms</th>\n",
       "      <th>postsqft</th>\n",
       "      <th>zone_name_encoded</th>\n",
       "    </tr>\n",
       "  </thead>\n",
       "  <tbody>\n",
       "    <tr>\n",
       "      <th>0</th>\n",
       "      <td>0.175004</td>\n",
       "      <td>0.154978</td>\n",
       "      <td>0.928926</td>\n",
       "    </tr>\n",
       "    <tr>\n",
       "      <th>1</th>\n",
       "      <td>-0.752354</td>\n",
       "      <td>-1.154082</td>\n",
       "      <td>0.645677</td>\n",
       "    </tr>\n",
       "    <tr>\n",
       "      <th>2</th>\n",
       "      <td>2.029720</td>\n",
       "      <td>0.626468</td>\n",
       "      <td>-1.903562</td>\n",
       "    </tr>\n",
       "  </tbody>\n",
       "</table>\n",
       "</div>"
      ],
      "text/plain": [
       "   postbedrooms  postsqft  zone_name_encoded\n",
       "0      0.175004  0.154978           0.928926\n",
       "1     -0.752354 -1.154082           0.645677\n",
       "2      2.029720  0.626468          -1.903562"
      ]
     },
     "execution_count": 33,
     "metadata": {},
     "output_type": "execute_result"
    }
   ],
   "source": [
    "# Initialize MinMaxScaler\n",
    "# scaler = MinMaxScale()\n",
    "scaler = StandardScaler()\n",
    "\n",
    "# Fit and transform the features (X)\n",
    "X_scaled = scaler.fit_transform(X)\n",
    "\n",
    "# Convert the scaled data back to a DataFrame for better readability\n",
    "X_scaled_df = pd.DataFrame(X_scaled, columns=X.columns)\n",
    "\n",
    "# Show the result\n",
    "X_scaled_df.head(3)"
   ]
  },
  {
   "cell_type": "markdown",
   "id": "eea83982-f476-4670-93d2-c523bb958652",
   "metadata": {},
   "source": [
    "### Initial train test with 20% for testing"
   ]
  },
  {
   "cell_type": "code",
   "execution_count": 34,
   "id": "2afe7444-2589-48c6-91b0-b1d8440a1934",
   "metadata": {},
   "outputs": [],
   "source": [
    "# Split the scaled data into training and testing sets\n",
    "X_train, X_test, y_train, y_test = train_test_split(X_scaled_df, y, test_size=0.2, random_state=42)"
   ]
  },
  {
   "cell_type": "markdown",
   "id": "a8479088-6087-41a4-8f88-ffd09336ebe0",
   "metadata": {},
   "source": [
    "test_size=0.2 means 80% of the data will be used for training and 20% for testing."
   ]
  },
  {
   "cell_type": "markdown",
   "id": "4f505cea-98b2-4213-928d-77b286a2ff74",
   "metadata": {},
   "source": [
    "#### Testing linear Regression"
   ]
  },
  {
   "cell_type": "code",
   "execution_count": 35,
   "id": "63adf2bc-090f-42fe-b7af-0875162db22c",
   "metadata": {},
   "outputs": [
    {
     "name": "stdout",
     "output_type": "stream",
     "text": [
      "Mean Squared Error: 786966.1054507389\n",
      "R-squared: 0.5504033026104311\n"
     ]
    }
   ],
   "source": [
    "# Instantiate the model\n",
    "model = LinearRegression()\n",
    "\n",
    "# Train the model\n",
    "model.fit(X_train, y_train)\n",
    "\n",
    "# Make predictions\n",
    "y_pred = model.predict(X_test)\n",
    "\n",
    "# Evaluate the model\n",
    "mse = mean_squared_error(y_test, y_pred)\n",
    "r2 = r2_score(y_test, y_pred)\n",
    "\n",
    "# Print the results\n",
    "print(f'Mean Squared Error: {mse}')\n",
    "print(f'R-squared: {r2}')"
   ]
  },
  {
   "cell_type": "markdown",
   "id": "b0ade7e6-6736-4b2b-96e8-98c2d9564274",
   "metadata": {},
   "source": [
    "Low values on r squared and huge MSE. Is not a good model."
   ]
  },
  {
   "cell_type": "code",
   "execution_count": 36,
   "id": "b6ddbf47-e704-4554-9668-0f49914bfb34",
   "metadata": {},
   "outputs": [
    {
     "name": "stdout",
     "output_type": "stream",
     "text": [
      "Mean Squared Error (Random Forest): 626312.4388860837\n",
      "R-squared (Random Forest): 0.6421853468569546\n"
     ]
    }
   ],
   "source": [
    "# Instantiate the RandomForestRegressor model\n",
    "model_rf = RandomForestRegressor(random_state=42)  # random_state for reproducibility\n",
    "\n",
    "# Train the model\n",
    "model_rf.fit(X_train, y_train)\n",
    "\n",
    "# Predict on the test set\n",
    "y_pred_rf = model_rf.predict(X_test)\n",
    "\n",
    "# Calculate Mean Squared Error\n",
    "mse_rf = mean_squared_error(y_test, y_pred_rf)\n",
    "\n",
    "# Calculate R-squared\n",
    "r2_rf = r2_score(y_test, y_pred_rf)\n",
    "\n",
    "# Print the results\n",
    "print(f'Mean Squared Error (Random Forest): {mse_rf}')\n",
    "print(f'R-squared (Random Forest): {r2_rf}')"
   ]
  },
  {
   "cell_type": "markdown",
   "id": "3e1932bf-b761-4862-b5c2-4704fed33d35",
   "metadata": {},
   "source": [
    "R Squared improved. However the dataset needs more features to get better predictions.\n",
    "Random Forest was chosen because it provides high accuracy since it combines the results of multiple decision trees. Since it averages over many trees, it's less prone to overfitting compared to a single decision tree. It works with small and large datasets.\n"
   ]
  },
  {
   "cell_type": "markdown",
   "id": "ce50c1fe-858f-43fd-a3ed-9a1b54c2ddf2",
   "metadata": {},
   "source": [
    "## Trying the model"
   ]
  },
  {
   "cell_type": "code",
   "execution_count": 37,
   "id": "9293e154-a768-4b83-93c2-0eead269b003",
   "metadata": {},
   "outputs": [
    {
     "name": "stdout",
     "output_type": "stream",
     "text": [
      "Predicted prices: [10755.75  6013.4  10450.1 ]\n"
     ]
    }
   ],
   "source": [
    "# Predict house prices for new data\n",
    "\n",
    "# Example raw user input\n",
    "raw_data = pd.DataFrame({\n",
    "    'postbedrooms': [1, 2, 4],         # Number of bedrooms\n",
    "    'postsqft': [40, 800, 2200],     # Square footage\n",
    "    'zone_name': ['vancouver', 'burnaby', 'coquitlam']  # Zone names\n",
    "})\n",
    "\n",
    "# Initialize LabelEncoder and MinMaxScaler\n",
    "label_encoder = LabelEncoder()\n",
    "scaler = StandardScaler()\n",
    "\n",
    "# Fit the encoder on the original 'zone_name' values (same as during training)\n",
    "raw_data['zone_name_encoded'] = label_encoder.fit_transform(raw_data['zone_name'])\n",
    "\n",
    "# Apply scaling to the features ('postbedrooms' and 'postsqft')\n",
    "# Fit the scaler on the training data (use X_train[scaled_features] to fit during training)\n",
    "scaler.fit(X_train[['postbedrooms', 'postsqft']])\n",
    "raw_data[['postbedrooms', 'postsqft']] = scaler.transform(raw_data[['postbedrooms', 'postsqft']])\n",
    "\n",
    "# Predict using the preprocessed data\n",
    "predictions = model_rf.predict(raw_data[['postbedrooms', 'postsqft', 'zone_name_encoded']])\n",
    "\n",
    "# Output the predicted prices\n",
    "print(f\"Predicted prices: {predictions}\")"
   ]
  },
  {
   "cell_type": "code",
   "execution_count": null,
   "id": "04a4864f-0122-4e59-9ab7-ab89a96cfcb3",
   "metadata": {},
   "outputs": [],
   "source": []
  }
 ],
 "metadata": {
  "kernelspec": {
   "display_name": "Python 3 (ipykernel)",
   "language": "python",
   "name": "python3"
  },
  "language_info": {
   "codemirror_mode": {
    "name": "ipython",
    "version": 3
   },
   "file_extension": ".py",
   "mimetype": "text/x-python",
   "name": "python",
   "nbconvert_exporter": "python",
   "pygments_lexer": "ipython3",
   "version": "3.11.7"
  }
 },
 "nbformat": 4,
 "nbformat_minor": 5
}
